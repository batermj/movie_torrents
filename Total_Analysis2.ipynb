{
 "cells": [
  {
   "cell_type": "markdown",
   "metadata": {},
   "source": [
    "* Dates:\n",
    "    * Older moves might not be torrented\n",
    "    * Month: Blockbusters are released in May and December, No good movies released January - April, Kids are on summer cvaction during summer months.\n",
    "* Production Budget: \n",
    "    * Might be outliers. Take log if outliers, Remove outliers, Create new feature that is binning production budget\n",
    "* Rating: Is there a relationship with Number of torrents, look at mean, median torrents per rating. Maybe group ratings together for example G, PG, PG-13 in one group R in another\n",
    "* Genre as a feature. Maybe keep a subset maybe create new ratings by combing other ratings"
   ]
  },
  {
   "cell_type": "code",
   "execution_count": 1,
   "metadata": {
    "collapsed": true
   },
   "outputs": [],
   "source": [
    "import pandas as pd\n",
    "import numpy as np\n",
    "import string\n",
    "from collections import defaultdict\n",
    "import matplotlib.pyplot as plt\n",
    "import matplotlib\n",
    "%matplotlib inline\n",
    "matplotlib.style.use('ggplot')\n",
    "\n",
    "import plotly\n",
    "import plotly.plotly as py\n",
    "plotly.tools.set_credentials_file(username='bbiggs', api_key='jrgs2lfv3u')\n",
    "import seaborn as sns"
   ]
  },
  {
   "cell_type": "markdown",
   "metadata": {},
   "source": [
    "# Read in TRAIN data set and select pertinent columns"
   ]
  },
  {
   "cell_type": "code",
   "execution_count": 2,
   "metadata": {
    "collapsed": false
   },
   "outputs": [
    {
     "name": "stdout",
     "output_type": "stream",
     "text": [
      "1324\n"
     ]
    },
    {
     "data": {
      "text/html": [
       "<div>\n",
       "<table border=\"1\" class=\"dataframe\">\n",
       "  <thead>\n",
       "    <tr style=\"text-align: right;\">\n",
       "      <th></th>\n",
       "      <th>Title</th>\n",
       "      <th>Prod_Budget</th>\n",
       "      <th>Released</th>\n",
       "      <th>Year</th>\n",
       "      <th>Month</th>\n",
       "      <th>Rated</th>\n",
       "      <th>Runtime</th>\n",
       "      <th>Genre</th>\n",
       "      <th>Director</th>\n",
       "      <th>Actors</th>\n",
       "      <th>Total_Torrents</th>\n",
       "    </tr>\n",
       "  </thead>\n",
       "  <tbody>\n",
       "    <tr>\n",
       "      <th>0</th>\n",
       "      <td>The Game</td>\n",
       "      <td>50000000</td>\n",
       "      <td>1997-09-12</td>\n",
       "      <td>1997.0</td>\n",
       "      <td>9.0</td>\n",
       "      <td>R</td>\n",
       "      <td>129</td>\n",
       "      <td>Drama, Mystery, Thriller</td>\n",
       "      <td>David Fincher</td>\n",
       "      <td>Michael Douglas, Sean Penn, Deborah Kara Unger...</td>\n",
       "      <td>276.0</td>\n",
       "    </tr>\n",
       "    <tr>\n",
       "      <th>1</th>\n",
       "      <td>Speed</td>\n",
       "      <td>30000000</td>\n",
       "      <td>1994-06-10</td>\n",
       "      <td>1994.0</td>\n",
       "      <td>6.0</td>\n",
       "      <td>R</td>\n",
       "      <td>116</td>\n",
       "      <td>Action, Adventure, Crime</td>\n",
       "      <td>Jan de Bont</td>\n",
       "      <td>Keanu Reeves, Dennis Hopper, Sandra Bullock, J...</td>\n",
       "      <td>241.0</td>\n",
       "    </tr>\n",
       "    <tr>\n",
       "      <th>2</th>\n",
       "      <td>The Man in the Iron Mask</td>\n",
       "      <td>35000000</td>\n",
       "      <td>1998-03-13</td>\n",
       "      <td>1998.0</td>\n",
       "      <td>3.0</td>\n",
       "      <td>PG-13</td>\n",
       "      <td>132</td>\n",
       "      <td>Action, Adventure</td>\n",
       "      <td>Randall Wallace</td>\n",
       "      <td>Leonardo DiCaprio, Jeremy Irons, John Malkovic...</td>\n",
       "      <td>95.0</td>\n",
       "    </tr>\n",
       "    <tr>\n",
       "      <th>3</th>\n",
       "      <td>Hide &amp; Seek</td>\n",
       "      <td>25000000</td>\n",
       "      <td>2005-01-28</td>\n",
       "      <td>2005.0</td>\n",
       "      <td>1.0</td>\n",
       "      <td>R</td>\n",
       "      <td>101</td>\n",
       "      <td>Drama, Horror, Thriller</td>\n",
       "      <td>John Polson</td>\n",
       "      <td>Robert De Niro, Dakota Fanning, Famke Janssen,...</td>\n",
       "      <td>89.0</td>\n",
       "    </tr>\n",
       "    <tr>\n",
       "      <th>4</th>\n",
       "      <td>The Three Stooges</td>\n",
       "      <td>30000000</td>\n",
       "      <td>2012-04-13</td>\n",
       "      <td>2012.0</td>\n",
       "      <td>4.0</td>\n",
       "      <td>PG</td>\n",
       "      <td>92</td>\n",
       "      <td>Comedy</td>\n",
       "      <td>Bobby Farrelly, Peter Farrelly</td>\n",
       "      <td>Sean Hayes, Will Sasso, Chris Diamantopoulos, ...</td>\n",
       "      <td>230.0</td>\n",
       "    </tr>\n",
       "  </tbody>\n",
       "</table>\n",
       "</div>"
      ],
      "text/plain": [
       "                      Title  Prod_Budget    Released    Year  Month  Rated  \\\n",
       "0                  The Game     50000000  1997-09-12  1997.0    9.0      R   \n",
       "1                     Speed     30000000  1994-06-10  1994.0    6.0      R   \n",
       "2  The Man in the Iron Mask     35000000  1998-03-13  1998.0    3.0  PG-13   \n",
       "3               Hide & Seek     25000000  2005-01-28  2005.0    1.0      R   \n",
       "4         The Three Stooges     30000000  2012-04-13  2012.0    4.0     PG   \n",
       "\n",
       "   Runtime                     Genre                        Director  \\\n",
       "0      129  Drama, Mystery, Thriller                   David Fincher   \n",
       "1      116  Action, Adventure, Crime                     Jan de Bont   \n",
       "2      132         Action, Adventure                 Randall Wallace   \n",
       "3      101   Drama, Horror, Thriller                     John Polson   \n",
       "4       92                    Comedy  Bobby Farrelly, Peter Farrelly   \n",
       "\n",
       "                                              Actors  Total_Torrents  \n",
       "0  Michael Douglas, Sean Penn, Deborah Kara Unger...           276.0  \n",
       "1  Keanu Reeves, Dennis Hopper, Sandra Bullock, J...           241.0  \n",
       "2  Leonardo DiCaprio, Jeremy Irons, John Malkovic...            95.0  \n",
       "3  Robert De Niro, Dakota Fanning, Famke Janssen,...            89.0  \n",
       "4  Sean Hayes, Will Sasso, Chris Diamantopoulos, ...           230.0  "
      ]
     },
     "execution_count": 2,
     "metadata": {},
     "output_type": "execute_result"
    }
   ],
   "source": [
    "df = pd.read_csv('data/train_data2.csv', encoding='latin-1')\n",
    "print(len(df))\n",
    "df.head()"
   ]
  },
  {
   "cell_type": "markdown",
   "metadata": {},
   "source": [
    "# Convert dates to datetime objects"
   ]
  },
  {
   "cell_type": "code",
   "execution_count": 3,
   "metadata": {
    "collapsed": false
   },
   "outputs": [
    {
     "data": {
      "text/html": [
       "<div>\n",
       "<table border=\"1\" class=\"dataframe\">\n",
       "  <thead>\n",
       "    <tr style=\"text-align: right;\">\n",
       "      <th></th>\n",
       "      <th>Title</th>\n",
       "      <th>Prod_Budget</th>\n",
       "      <th>Released</th>\n",
       "      <th>Year</th>\n",
       "      <th>Month</th>\n",
       "      <th>Rated</th>\n",
       "      <th>Runtime</th>\n",
       "      <th>Genre</th>\n",
       "      <th>Director</th>\n",
       "      <th>Actors</th>\n",
       "      <th>Total_Torrents</th>\n",
       "    </tr>\n",
       "  </thead>\n",
       "  <tbody>\n",
       "    <tr>\n",
       "      <th>0</th>\n",
       "      <td>The Game</td>\n",
       "      <td>50000000</td>\n",
       "      <td>1997-09-12</td>\n",
       "      <td>1997</td>\n",
       "      <td>9</td>\n",
       "      <td>R</td>\n",
       "      <td>129</td>\n",
       "      <td>Drama, Mystery, Thriller</td>\n",
       "      <td>David Fincher</td>\n",
       "      <td>Michael Douglas, Sean Penn, Deborah Kara Unger...</td>\n",
       "      <td>276.0</td>\n",
       "    </tr>\n",
       "    <tr>\n",
       "      <th>1</th>\n",
       "      <td>Speed</td>\n",
       "      <td>30000000</td>\n",
       "      <td>1994-06-10</td>\n",
       "      <td>1994</td>\n",
       "      <td>6</td>\n",
       "      <td>R</td>\n",
       "      <td>116</td>\n",
       "      <td>Action, Adventure, Crime</td>\n",
       "      <td>Jan de Bont</td>\n",
       "      <td>Keanu Reeves, Dennis Hopper, Sandra Bullock, J...</td>\n",
       "      <td>241.0</td>\n",
       "    </tr>\n",
       "    <tr>\n",
       "      <th>2</th>\n",
       "      <td>The Man in the Iron Mask</td>\n",
       "      <td>35000000</td>\n",
       "      <td>1998-03-13</td>\n",
       "      <td>1998</td>\n",
       "      <td>3</td>\n",
       "      <td>PG-13</td>\n",
       "      <td>132</td>\n",
       "      <td>Action, Adventure</td>\n",
       "      <td>Randall Wallace</td>\n",
       "      <td>Leonardo DiCaprio, Jeremy Irons, John Malkovic...</td>\n",
       "      <td>95.0</td>\n",
       "    </tr>\n",
       "    <tr>\n",
       "      <th>3</th>\n",
       "      <td>Hide &amp; Seek</td>\n",
       "      <td>25000000</td>\n",
       "      <td>2005-01-28</td>\n",
       "      <td>2005</td>\n",
       "      <td>1</td>\n",
       "      <td>R</td>\n",
       "      <td>101</td>\n",
       "      <td>Drama, Horror, Thriller</td>\n",
       "      <td>John Polson</td>\n",
       "      <td>Robert De Niro, Dakota Fanning, Famke Janssen,...</td>\n",
       "      <td>89.0</td>\n",
       "    </tr>\n",
       "    <tr>\n",
       "      <th>4</th>\n",
       "      <td>The Three Stooges</td>\n",
       "      <td>30000000</td>\n",
       "      <td>2012-04-13</td>\n",
       "      <td>2012</td>\n",
       "      <td>4</td>\n",
       "      <td>PG</td>\n",
       "      <td>92</td>\n",
       "      <td>Comedy</td>\n",
       "      <td>Bobby Farrelly, Peter Farrelly</td>\n",
       "      <td>Sean Hayes, Will Sasso, Chris Diamantopoulos, ...</td>\n",
       "      <td>230.0</td>\n",
       "    </tr>\n",
       "  </tbody>\n",
       "</table>\n",
       "</div>"
      ],
      "text/plain": [
       "                      Title  Prod_Budget   Released  Year  Month  Rated  \\\n",
       "0                  The Game     50000000 1997-09-12  1997      9      R   \n",
       "1                     Speed     30000000 1994-06-10  1994      6      R   \n",
       "2  The Man in the Iron Mask     35000000 1998-03-13  1998      3  PG-13   \n",
       "3               Hide & Seek     25000000 2005-01-28  2005      1      R   \n",
       "4         The Three Stooges     30000000 2012-04-13  2012      4     PG   \n",
       "\n",
       "   Runtime                     Genre                        Director  \\\n",
       "0      129  Drama, Mystery, Thriller                   David Fincher   \n",
       "1      116  Action, Adventure, Crime                     Jan de Bont   \n",
       "2      132         Action, Adventure                 Randall Wallace   \n",
       "3      101   Drama, Horror, Thriller                     John Polson   \n",
       "4       92                    Comedy  Bobby Farrelly, Peter Farrelly   \n",
       "\n",
       "                                              Actors  Total_Torrents  \n",
       "0  Michael Douglas, Sean Penn, Deborah Kara Unger...           276.0  \n",
       "1  Keanu Reeves, Dennis Hopper, Sandra Bullock, J...           241.0  \n",
       "2  Leonardo DiCaprio, Jeremy Irons, John Malkovic...            95.0  \n",
       "3  Robert De Niro, Dakota Fanning, Famke Janssen,...            89.0  \n",
       "4  Sean Hayes, Will Sasso, Chris Diamantopoulos, ...           230.0  "
      ]
     },
     "execution_count": 3,
     "metadata": {},
     "output_type": "execute_result"
    }
   ],
   "source": [
    "df['Released'] = pd.to_datetime(df['Released'])\n",
    "df['Year'] = pd.DatetimeIndex(df['Released']).year\n",
    "df['Month'] = pd.DatetimeIndex(df['Released']).month\n",
    "df.head()"
   ]
  },
  {
   "cell_type": "markdown",
   "metadata": {},
   "source": [
    "# Inspect years"
   ]
  },
  {
   "cell_type": "code",
   "execution_count": 4,
   "metadata": {
    "collapsed": false
   },
   "outputs": [
    {
     "data": {
      "text/plain": [
       "count    1324\n",
       "mean     2003\n",
       "std         9\n",
       "min      1966\n",
       "25%      1999\n",
       "50%      2005\n",
       "75%      2010\n",
       "max      2016\n",
       "Name: Year, dtype: int64"
      ]
     },
     "execution_count": 4,
     "metadata": {},
     "output_type": "execute_result"
    }
   ],
   "source": [
    "df['Year'].describe().astype(int)"
   ]
  },
  {
   "cell_type": "code",
   "execution_count": 5,
   "metadata": {
    "collapsed": false
   },
   "outputs": [
    {
     "data": {
      "image/png": "[encoded data removed]",
      "text/plain": [
       "<matplotlib.figure.Figure at 0x10e78b048>"
      ]
     },
     "metadata": {},
     "output_type": "display_data"
    }
   ],
   "source": [
    "# dictionary - year counts\n",
    "yr_dict = df['Year'].value_counts().to_dict()\n",
    "\n",
    "import operator\n",
    "yr_lst = sorted(yr_dict.items(), key=operator.itemgetter(0)) # sort by year\n",
    "yr_lst = yr_lst[::-1]\n",
    "\n",
    "# plot histogram\n",
    "plt.figure(figsize=(25,10))\n",
    "ind = np.arange(len(yr_dict))\n",
    "width = 0.35\n",
    "\n",
    "bar_year = [year for year, count in yr_lst]\n",
    "bar_count = [count for year, count in yr_lst]\n",
    "\n",
    "plt.bar(ind, bar_count, width, color='r')\n",
    "\n",
    "plt.ylabel('Count')\n",
    "plt.xlabel('Year')\n",
    "plt.title('Number of Torrents per Year')\n",
    "plt.xticks(ind + width/2., (bar_year), rotation='vertical')\n",
    "plt.yticks(np.arange(0, 91, 5))\n",
    "\n",
    "plt.show()"
   ]
  },
  {
   "cell_type": "raw",
   "metadata": {
    "collapsed": false
   },
   "source": [
    "fig16 = plt.figure()\n",
    "\n",
    "bar_year = [year for year, count in yr_lst]\n",
    "bar_count = [count for year, count in yr_lst]\n",
    "\n",
    "sns.set_palette('husl')\n",
    "matplotlib.rc(\"figure\", figsize=(8, 4))\n",
    "\n",
    "plt.ylabel('Kernel Density Estimate')\n",
    "plt.xlabel('Year')\n",
    "plt.title('Number of Torrents per Year')\n",
    "\n",
    "sns.distplot(bar_year, color=\"b\")\n",
    "py.iplot_mpl(fig16, strip_style = True)"
   ]
  },
  {
   "cell_type": "markdown",
   "metadata": {},
   "source": [
    "# df => df_yr "
   ]
  },
  {
   "cell_type": "code",
   "execution_count": 6,
   "metadata": {
    "collapsed": false
   },
   "outputs": [
    {
     "name": "stdout",
     "output_type": "stream",
     "text": [
      "355 entries lost (0.1%) due to date cutoff between 1998 and 2015\n"
     ]
    }
   ],
   "source": [
    "# cut off at year \n",
    "before = len(df)\n",
    "yr_cut_bot = 1998\n",
    "yr_cut_top = 2015\n",
    "mask = (df['Year'] >= yr_cut_bot) & (df['Year'] < yr_cut_top)\n",
    "df_yr = df.loc[mask]\n",
    "df_yr.sort_values('Year').head()\n",
    "after = len(df_yr)\n",
    "\n",
    "print('{0} entries lost ({1}%) due to date cutoff between {2} and {3}'.format(before-after, \n",
    "                                                round((before/after)/before *100, 2), yr_cut_bot, yr_cut_top))"
   ]
  },
  {
   "cell_type": "code",
   "execution_count": 7,
   "metadata": {
    "collapsed": false
   },
   "outputs": [
    {
     "ename": "SyntaxError",
     "evalue": "invalid syntax (<ipython-input-7-e1410871c488>, line 6)",
     "output_type": "error",
     "traceback": [
      "\u001b[0;36m  File \u001b[0;32m\"<ipython-input-7-e1410871c488>\"\u001b[0;36m, line \u001b[0;32m6\u001b[0m\n\u001b[0;31m    mask =  (df_yr['Year'] >= 1999 & <= 2001) & (df_yr['Total_Torrents'] > 200)\u001b[0m\n\u001b[0m                                      ^\u001b[0m\n\u001b[0;31mSyntaxError\u001b[0m\u001b[0;31m:\u001b[0m invalid syntax\n"
     ]
    }
   ],
   "source": [
    "# 1998\n",
    "mask =  (df_yr['Year'] == 1998) & (df_yr['Total_Torrents'] > 100)\n",
    "df_yr = df_yr[~mask]\n",
    "\n",
    "# 1999\n",
    "mask =  (df_yr['Year'] >= 1999 & <= 2001) & (df_yr['Total_Torrents'] > 200)\n",
    "df_yr = df_yr[~mask]\n",
    "\n",
    "# 2000\n",
    "mask =  (df_yr['Year'] == 2000) & (df_yr['Total_Torrents'] > 200)\n",
    "df_yr = df_yr[~mask]\n",
    "\n",
    "# 2001\n",
    "mask =  (df_yr['Year'] == 2001) & (df_yr['Total_Torrents'] > 300)\n",
    "df_yr = df_yr[~mask]\n",
    "\n",
    "# 2002\n",
    "mask =  (df_yr['Year'] == 2002) & (df_yr['Total_Torrents'] > 300)\n",
    "df_yr = df_yr[~mask]\n",
    "\n",
    "# 2003\n",
    "mask =  (df_yr['Year'] == 2003) & (df_yr['Total_Torrents'] > 300)\n",
    "df_yr = df_yr[~mask]\n",
    "\n",
    "# 2004\n",
    "# 2005\n",
    "mask =  (df_yr['Year'] == 2005) & (df_yr['Total_Torrents'] > 300)\n",
    "df_yr = df_yr[~mask]\n",
    "\n",
    "# 2006\n",
    "mask =  (df_yr['Year'] == 2006) & (df_yr['Total_Torrents'] > 300)\n",
    "df_yr = df_yr[~mask]\n",
    "\n",
    "# 2007\n",
    "mask =  (df_yr['Year'] == 2007) & (df_yr['Total_Torrents'] > 450)\n",
    "df_yr = df_yr[~mask]\n",
    "\n",
    "# 2010\n",
    "mask =  (df_yr['Year'] == 2010) & (df_yr['Total_Torrents'] > 800)\n",
    "df_yr = df_yr[~mask]\n",
    "\n",
    "# 2014\n",
    "mask =  (df_yr['Year'] == 2014) & (df_yr['Total_Torrents'] > 850)\n",
    "df_yr = df_yr[~mask]"
   ]
  },
  {
   "cell_type": "code",
   "execution_count": null,
   "metadata": {
    "collapsed": false
   },
   "outputs": [],
   "source": [
    "import seaborn as sns\n",
    "sns.set(style=\"ticks\", context=\"talk\")\n",
    "\n",
    "# Load the example tips dataset\n",
    "#df_sub = df_yr[df_yr['Year'] == 2014]\n",
    "\n",
    "# Make a custom sequential palette using the cubehelix system\n",
    "pal = sns.cubehelix_palette(4, 1.5, .75, light=.6, dark=.2)\n",
    "\n",
    "# Plot tip as a function of toal bill across days\n",
    "g = sns.lmplot(x=\"Prod_Budget\", y=\"Total_Torrents\", hue=\"Month\", data=df_sub,\n",
    "               palette=pal, size=7)\n",
    "\n",
    "# Use more informative axis labels than are provided by default\n",
    "g.set_axis_labels(\"Production Budget ($)\", \"Total Torrents\")"
   ]
  },
  {
   "cell_type": "code",
   "execution_count": null,
   "metadata": {
    "collapsed": true
   },
   "outputs": [],
   "source": [
    "# 1\n",
    "mask =  (df_yr['Month'] == 1) & (df_yr['Total_Torrents'] > 500)\n",
    "df_yr = df_yr[~mask]\n",
    "\n",
    "# 3\n",
    "mask =  (df_yr['Month'] == 3) & (df_yr['Total_Torrents'] > 800)\n",
    "df_yr = df_yr[~mask]\n",
    "\n",
    "# 4\n",
    "mask =  (df_yr['Month'] == 4) & (df_yr['Total_Torrents'] > 800)\n",
    "df_yr = df_yr[~mask]\n",
    "\n",
    "# 5\n",
    "mask =  (df_yr['Month'] == 5) & (df_yr['Total_Torrents'] > 1000)\n",
    "df_yr = df_yr[~mask]\n",
    "\n",
    "# 9\n",
    "mask =  (df_yr['Month'] == 9) & (df_yr['Total_Torrents'] > 800)\n",
    "df_yr = df_yr[~mask]\n",
    "\n",
    "# 10\n",
    "mask =  (df_yr['Month'] == 10) & (df_yr['Total_Torrents'] > 800)\n",
    "df_yr = df_yr[~mask]"
   ]
  },
  {
   "cell_type": "code",
   "execution_count": null,
   "metadata": {
    "collapsed": false
   },
   "outputs": [],
   "source": [
    "import seaborn as sns\n",
    "sns.set(style=\"ticks\", context=\"talk\")\n",
    "\n",
    "# Load the example tips dataset\n",
    "df_sub = df_yr[df_yr['Month'] == 12]\n",
    "\n",
    "# Make a custom sequential palette using the cubehelix system\n",
    "pal = sns.cubehelix_palette(4, 1.5, .75, light=.6, dark=.2)\n",
    "\n",
    "# Plot tip as a function of toal bill across days\n",
    "g = sns.lmplot(x=\"Prod_Budget\", y=\"Total_Torrents\", hue=\"Month\", data=df_sub,\n",
    "               palette=pal, size=7)\n",
    "\n",
    "# Use more informative axis labels than are provided by default\n",
    "g.set_axis_labels(\"Production Budget ($)\", \"Total Torrents\")"
   ]
  },
  {
   "cell_type": "markdown",
   "metadata": {},
   "source": [
    "# dictionary - year counts\n",
    "yr_dict = df_yr['Year'].value_counts().to_dict()\n",
    "\n",
    "import operator\n",
    "yr_lst = sorted(yr_dict.items(), key=operator.itemgetter(0)) # sort by year\n",
    "yr_lst = yr_lst[::-1]\n",
    "\n",
    "# plot histogram\n",
    "fig16 = plt.figure()\n",
    "\n",
    "bar_year = [year for year, count in yr_lst]\n",
    "bar_count = [count for year, count in yr_lst]\n",
    "\n",
    "sns.set_palette('husl')\n",
    "matplotlib.rc(\"figure\", figsize=(8, 4))\n",
    "\n",
    "plt.ylabel('Kernel Density Estimate')\n",
    "plt.xlabel('Year')\n",
    "plt.title('Number of Torrents per Year')\n",
    "\n",
    "sns.distplot(bar_year, color=\"b\")\n",
    "py.iplot_mpl(fig16, strip_style = True)"
   ]
  },
  {
   "cell_type": "code",
   "execution_count": null,
   "metadata": {
    "collapsed": true
   },
   "outputs": [],
   "source": [
    "import plotly.plotly as py\n",
    "from plotly.tools import FigureFactory as FF\n",
    "\n",
    "df_a = df_yr[['Prod_Budget', 'Year', 'Month', 'Total_Torrents']]"
   ]
  },
  {
   "cell_type": "markdown",
   "metadata": {
    "collapsed": false
   },
   "source": [
    "fig = FF.create_scatterplotmatrix(df_a, diag='box', index='Prod_Budget',\n",
    "                                  colormap='Portland', colormap_type='seq',\n",
    "                                  endpts=[-1, 0, 1],\n",
    "                                  height=800, width=800, size=12,\n",
    "                                  marker=dict(symbol=25))\n",
    "py.iplot(fig, filename = 'Partition Numeric Data into Intervals')"
   ]
  },
  {
   "cell_type": "code",
   "execution_count": null,
   "metadata": {
    "collapsed": false
   },
   "outputs": [],
   "source": [
    "#fig = FF.create_scatterplotmatrix(df_a, diag='histogram', index='Prod_Budget',\n",
    "#                                  height=800, width=800)\n",
    "#py.iplot(fig, filename='Histograms along Diagonal Subplots')"
   ]
  },
  {
   "cell_type": "code",
   "execution_count": null,
   "metadata": {
    "collapsed": false
   },
   "outputs": [],
   "source": [
    "# look at current data set AFTER year cutoff\n",
    "plt.rcParams['figure.figsize'] = (15, 15)\n",
    "_ = pd.tools.plotting.scatter_matrix(df_yr)"
   ]
  },
  {
   "cell_type": "code",
   "execution_count": null,
   "metadata": {
    "collapsed": false
   },
   "outputs": [],
   "source": [
    "# unique list of grouped genres as strings\n",
    "unq_genres = df_yr['Genre'].unique()\n",
    "unq_genres = unq_genres.tolist()\n",
    "\n",
    "#print(len(unq_genres))\n",
    "#print(unq_genres[:10])\n",
    "\n",
    "# unique list of grouped genres as lists\n",
    "lst_grp_genres = []\n",
    "for lst in unq_genres:\n",
    "    temp = []\n",
    "    for genre in lst.split(','):\n",
    "         temp.append(genre)\n",
    "    lst_grp_genres.append(temp)\n",
    "\n",
    "#print(len(lst_grp_genres))\n",
    "#print(lst_grp_genres)"
   ]
  },
  {
   "cell_type": "code",
   "execution_count": null,
   "metadata": {
    "collapsed": false
   },
   "outputs": [],
   "source": [
    "# unique list of individual genres\n",
    "ind_genre = set()\n",
    "\n",
    "for lst in unq_genres:\n",
    "    for genre in lst.split(','):\n",
    "        ind_genre.add(genre.strip())\n",
    "ind_genre = sorted(ind_genre)\n",
    "\n",
    "#print(len(ind_genre))\n",
    "#print(ind_genre)"
   ]
  },
  {
   "cell_type": "code",
   "execution_count": null,
   "metadata": {
    "collapsed": false
   },
   "outputs": [],
   "source": [
    "# dictionary - count of genre occurences\n",
    "count = defaultdict(lambda:0)\n",
    "\n",
    "for genre in ind_genre:\n",
    "    count[genre] = df_yr.Genre.str.contains(genre).sum()\n",
    "\n",
    "import operator\n",
    "srt = sorted(count.items(), key=operator.itemgetter(1))\n",
    "srt = srt[::-1]\n",
    "#print(srt)"
   ]
  },
  {
   "cell_type": "code",
   "execution_count": null,
   "metadata": {
    "collapsed": false
   },
   "outputs": [],
   "source": [
    "def split_to_array(ser):\n",
    "    split_array = np.array(ser.strip().replace(',','').split(' '))\n",
    "    return pd.Series(split_array)\n",
    "\n",
    "genres = df_yr.Genre.apply(split_to_array)\n",
    "genres = pd.Series(genres.values.ravel()).dropna()\n",
    "genres = genres.value_counts().sort_values(ascending=False)"
   ]
  },
  {
   "cell_type": "code",
   "execution_count": null,
   "metadata": {
    "collapsed": true
   },
   "outputs": [],
   "source": []
  },
  {
   "cell_type": "code",
   "execution_count": null,
   "metadata": {
    "collapsed": false
   },
   "outputs": [],
   "source": [
    "def convert_frequency(ser, genres=genres):\n",
    "    split_array = np.array(ser.strip().replace(',','').split(' '))\n",
    "    genre = genres.loc[split_array].argmax()\n",
    "    return genre\n",
    "\n",
    "df_yr['Genre_Single'] = df_yr.Genre.apply(convert_frequency)"
   ]
  },
  {
   "cell_type": "markdown",
   "metadata": {},
   "source": [
    "# Select only significant values from dataframe\n",
    "# df_yr => df_sub"
   ]
  },
  {
   "cell_type": "code",
   "execution_count": null,
   "metadata": {
    "collapsed": false
   },
   "outputs": [],
   "source": [
    "# select only genres of significance\n",
    "genre = ['Action', 'Adventure', 'Comedy', 'Drama']\n",
    "df_sub = df_yr.loc[df_yr['Genre_Single'].isin(genre)]\n",
    "\n",
    "# select only genres of significance\n",
    "ratings = ['PG-13', 'PG', 'G', 'R']\n",
    "df_sub = df_sub.loc[df_sub['Rated'].isin(ratings)]\n",
    "\n",
    "#df_sub['Runtime'].value_counts()\n",
    "#df_sub['Genre_Single'].value_counts()\n",
    "#df_sub['Rated'].value_counts()\n",
    "df_sub.describe()"
   ]
  },
  {
   "cell_type": "code",
   "execution_count": null,
   "metadata": {
    "collapsed": false
   },
   "outputs": [],
   "source": [
    "# entire dataframe\n",
    "plt.rcParams['figure.figsize'] = (15, 15)\n",
    "_ = pd.tools.plotting.scatter_matrix(df_sub)"
   ]
  },
  {
   "cell_type": "code",
   "execution_count": null,
   "metadata": {
    "collapsed": false
   },
   "outputs": [],
   "source": [
    "from patsy import dmatrices\n",
    "patsy_formula = 'Total_Torrents ~ Prod_Budget + Year + Genre_Single'\n",
    "y, x = dmatrices(patsy_formula, data=df_sub, return_type='dataframe')"
   ]
  },
  {
   "cell_type": "code",
   "execution_count": null,
   "metadata": {
    "collapsed": false
   },
   "outputs": [],
   "source": [
    "import statsmodels.api as sm\n",
    "model = sm.OLS(y, x)\n",
    "results = model.fit()\n",
    "results.summary()"
   ]
  },
  {
   "cell_type": "code",
   "execution_count": null,
   "metadata": {
    "collapsed": false
   },
   "outputs": [],
   "source": [
    "from sklearn.linear_model import LinearRegression\n",
    "model = LinearRegression()\n",
    "model.fit(x, y)\n",
    "mod_lr_score = model.score(x, y)\n",
    "mod_lr_coef = model.coef_"
   ]
  },
  {
   "cell_type": "code",
   "execution_count": null,
   "metadata": {
    "collapsed": true
   },
   "outputs": [],
   "source": [
    "from sklearn import cross_validation as cv\n",
    "from sklearn import metrics\n",
    "\n",
    "x_train, x_test, y_train, y_test = cv.train_test_split(x,y,test_size=0.20,random_state=1234)\n",
    "\n",
    "model = LinearRegression().fit(x_train, y_train)\n",
    "\n",
    "# store results\n",
    "mean_sq_err = metrics.mean_squared_error(y_train,model.predict(x_train))\n",
    "cv_mod_score = model.score(x_train, y_train)"
   ]
  },
  {
   "cell_type": "code",
   "execution_count": null,
   "metadata": {
    "collapsed": true
   },
   "outputs": [],
   "source": [
    "# reset x, y otherwise errors occur\n",
    "y, x = dmatrices(patsy_formula, data=df_sub, return_type='dataframe')\n",
    "\n",
    "from sklearn.cross_validation import KFold\n",
    "kf = KFold(len(df_sub), n_folds=10, shuffle=True)\n",
    "\n",
    "for train_index, test_index in kf:\n",
    "    x_train, x_test = x.iloc[train_index], x.iloc[test_index]\n",
    "    y_train, y_test = y.iloc[train_index], y.iloc[test_index]\n",
    "    clf2 = LinearRegression().fit(x.iloc[train_index], y.iloc[train_index])\n",
    "\n",
    "# store results\n",
    "mean_sq_errKf = metrics.mean_squared_error(y_train,model.predict(x_train))\n",
    "cvKf_mod_score = clf2.score(x,y)"
   ]
  },
  {
   "cell_type": "code",
   "execution_count": null,
   "metadata": {
    "collapsed": false
   },
   "outputs": [],
   "source": [
    "#NORMAL RESULTS\n",
    "print('Model Linear Regression Score = {0}'.format(mod_lr_score))\n",
    "print('            Mean Square Error = {0}'.format(mean_sq_err))\n",
    "print(' Cross Validation Model Score = {0}'.format(cv_mod_score))\n",
    "print('     Mean Squred Error K-Fold = {0}'.format(mean_sq_errKf))\n",
    "print('Cross Val. K-Fold Model Score = {0}'.format(cvKf_mod_score))"
   ]
  },
  {
   "cell_type": "code",
   "execution_count": null,
   "metadata": {
    "collapsed": false
   },
   "outputs": [],
   "source": [
    "fig = plt.figure(figsize=(12,8))\n",
    "fig = sm.graphics.plot_regress_exog(results,'Prod_Budget', fig=fig)"
   ]
  },
  {
   "cell_type": "code",
   "execution_count": null,
   "metadata": {
    "collapsed": false
   },
   "outputs": [],
   "source": [
    "_ = plt.plot(y, model.predict(x), 'ro')"
   ]
  },
  {
   "cell_type": "markdown",
   "metadata": {},
   "source": [
    "---\n",
    "# Log Transform"
   ]
  },
  {
   "cell_type": "code",
   "execution_count": null,
   "metadata": {
    "collapsed": false
   },
   "outputs": [],
   "source": [
    "df.columns"
   ]
  },
  {
   "cell_type": "code",
   "execution_count": null,
   "metadata": {
    "collapsed": false
   },
   "outputs": [],
   "source": [
    "df_sub['log_budg']=np.log(df_sub.Prod_Budget)\n",
    "#df_sub['log_year']=np.log(df_sub.Year)\n",
    "#df_sub['log_run']=np.log(df_sub.Runtime)\n",
    "df_sub['log_tor']=np.log(df_sub.Total_Torrents)\n",
    "\n",
    "trans = df_sub[['log_budg', 'Year', 'log_tor']]\n",
    "plt.rcParams['figure.figsize'] = (15, 15)\n",
    "_ = pd.tools.plotting.scatter_matrix(trans)"
   ]
  },
  {
   "cell_type": "code",
   "execution_count": null,
   "metadata": {
    "collapsed": false
   },
   "outputs": [],
   "source": [
    "log_patsy_formula = 'log_tor ~ log_budg + Year + Genre_Single'\n",
    "y, x = dmatrices(log_patsy_formula, data=df_sub, return_type='dataframe')"
   ]
  },
  {
   "cell_type": "code",
   "execution_count": null,
   "metadata": {
    "collapsed": false
   },
   "outputs": [],
   "source": [
    "import statsmodels.formula.api as smf\n",
    "results = smf.ols(formula=log_patsy_formula, data=df_sub,).fit()\n",
    "results.summary()"
   ]
  },
  {
   "cell_type": "code",
   "execution_count": null,
   "metadata": {
    "collapsed": false
   },
   "outputs": [],
   "source": [
    "from sklearn.linear_model import LinearRegression\n",
    "model = LinearRegression()\n",
    "model.fit(x, y)\n",
    "\n",
    "# store results\n",
    "log_mod_lr_score = model.score(x,y)"
   ]
  },
  {
   "cell_type": "code",
   "execution_count": null,
   "metadata": {
    "collapsed": false
   },
   "outputs": [],
   "source": [
    "from sklearn import cross_validation as cv\n",
    "from sklearn import metrics\n",
    "\n",
    "x_train, x_test, y_train, y_test = cv.train_test_split(x,y,test_size=0.20,random_state=1234)\n",
    "\n",
    "model = LinearRegression().fit(x_train, y_train)\n",
    "\n",
    "# store results\n",
    "log_mean_sq_err = metrics.mean_squared_error(y_train,model.predict(x_train))\n",
    "log_cv_mod_score = model.score(x_train, y_train)"
   ]
  },
  {
   "cell_type": "code",
   "execution_count": null,
   "metadata": {
    "collapsed": false
   },
   "outputs": [],
   "source": [
    "# reset x, y otherwise errors occur\n",
    "y, x = dmatrices(log_patsy_formula, data=df_sub, return_type='dataframe')\n",
    "\n",
    "from sklearn.cross_validation import KFold\n",
    "kf = KFold(len(df_sub), n_folds=10, shuffle=True)\n",
    "\n",
    "for train_index, test_index in kf:\n",
    "    x_train, x_test = x.iloc[train_index], x.iloc[test_index]\n",
    "    y_train, y_test = y.iloc[train_index], y.iloc[test_index]\n",
    "    clf2 = LinearRegression().fit(x.iloc[train_index], y.iloc[train_index])\n",
    "\n",
    "# store results\n",
    "log_mean_sq_errKf = metrics.mean_squared_error(y_train,model.predict(x_train))\n",
    "log_cvKf_mod_score = clf2.score(x,y)"
   ]
  },
  {
   "cell_type": "code",
   "execution_count": null,
   "metadata": {
    "collapsed": false
   },
   "outputs": [],
   "source": [
    "#LOG RESULTS\n",
    "print('Log Model Linear Regression Score = {0}'.format(log_mod_lr_score))\n",
    "print('            Log Mean Square Error = {0}'.format(log_mean_sq_err))\n",
    "print(' Log Cross Validation Model Score = {0}'.format(log_cv_mod_score))\n",
    "print('     Log Mean Squred Error K-Fold = {0}'.format(log_mean_sq_errKf))\n",
    "print('Log Cross Val. K-Fold Model Score = {0}'.format(log_cvKf_mod_score))"
   ]
  },
  {
   "cell_type": "markdown",
   "metadata": {},
   "source": [
    "# TEST"
   ]
  },
  {
   "cell_type": "code",
   "execution_count": null,
   "metadata": {
    "collapsed": false
   },
   "outputs": [],
   "source": [
    "df_TEST = pd.read_csv('data/test_data2.csv', encoding='latin-1')\n",
    "\n",
    "df_TEST['log_budg']=np.log(df_TEST.Prod_Budget)\n",
    "df_TEST['log_tor']=np.log(df_TEST.Total_Torrents)\n",
    "\n",
    "def split_to_array(ser):\n",
    "    split_array = np.array(ser.strip().replace(',','').split(' '))\n",
    "    return pd.Series(split_array)\n",
    "\n",
    "genres = df_yr.Genre.apply(split_to_array)\n",
    "genres = pd.Series(genres.values.ravel()).dropna()\n",
    "genres = genres.value_counts().sort_values(ascending=False)\n",
    "\n",
    "def convert_frequency(ser, genres=genres):\n",
    "    split_array = np.array(ser.strip().replace(',','').split(' '))\n",
    "    genre = genres.loc[split_array].argmax()\n",
    "    return genre\n",
    "\n",
    "df_TEST['Genre_Single'] = df_TEST.Genre.apply(convert_frequency)\n",
    "\n",
    "log_patsy_formula_test = 'log_tor ~ log_budg + Year + Genre_Single'\n",
    "y, x = dmatrices(log_patsy_formula_test, data=df_TEST, return_type='dataframe')\n",
    "\n",
    "print(clf2.score(x_test, y_test))\n",
    "print(metrics.mean_squared_error(y_test,model.predict(x_test)))"
   ]
  },
  {
   "cell_type": "code",
   "execution_count": null,
   "metadata": {
    "collapsed": false
   },
   "outputs": [],
   "source": [
    "_ = plt.plot(y, model.predict(x), 'bo')"
   ]
  },
  {
   "cell_type": "code",
   "execution_count": null,
   "metadata": {
    "collapsed": false
   },
   "outputs": [],
   "source": [
    "plt.figure(figsize=(25,10))\n",
    "\n",
    "ind = np.arange(len(yr_dict))\n",
    "width = 0.35\n",
    "\n",
    "bar_year = [year for year, count in yr_lst]\n",
    "bar_count = [count for year, count in yr_lst]\n",
    "\n",
    "plt.bar(ind, bar_count, width, color='r')\n",
    "\n",
    "plt.ylabel('Count')\n",
    "plt.xlabel('Year')\n",
    "plt.title('Number of Torrents per Year')\n",
    "plt.xticks(ind + width/2., (bar_year), rotation='vertical')\n",
    "plt.yticks(np.arange(0, 91, 5))\n",
    "\n",
    "plt.show()"
   ]
  },
  {
   "cell_type": "code",
   "execution_count": null,
   "metadata": {
    "collapsed": true
   },
   "outputs": [],
   "source": [
    "#log_tor ~ log_budg + Year + Month + log_run + Genre_Single'"
   ]
  },
  {
   "cell_type": "code",
   "execution_count": null,
   "metadata": {
    "collapsed": false
   },
   "outputs": [],
   "source": [
    "fig = plt.figure(figsize=(12,8))\n",
    "fig = sm.graphics.plot_regress_exog(results,'log_budg', fig=fig)"
   ]
  },
  {
   "cell_type": "code",
   "execution_count": null,
   "metadata": {
    "collapsed": false,
    "scrolled": false
   },
   "outputs": [],
   "source": [
    "fig = plt.figure(figsize=(12,8))\n",
    "fig = sm.graphics.plot_regress_exog(results,'Year', fig=fig)"
   ]
  },
  {
   "cell_type": "code",
   "execution_count": null,
   "metadata": {
    "collapsed": false
   },
   "outputs": [],
   "source": [
    "#fig = plt.figure(figsize=(12,8))\n",
    "#fig = sm.graphics.plot_regress_exog(results,'Month', fig=fig)"
   ]
  },
  {
   "cell_type": "code",
   "execution_count": null,
   "metadata": {
    "collapsed": false
   },
   "outputs": [],
   "source": [
    "plt.figure(figsize=(15,10))\n",
    "plt.axis([0, 450000000, 0, 1500])\n",
    "plt.xlabel('Production Budget')\n",
    "plt.ylabel('Torrents')\n",
    "plt.title('Torrents vs. Production Budget - All')\n",
    "plt.scatter(df_sub['Prod_Budget'], df_sub['Total_Torrents'], alpha=0.5, s=50)"
   ]
  },
  {
   "cell_type": "code",
   "execution_count": null,
   "metadata": {
    "collapsed": false
   },
   "outputs": [],
   "source": []
  },
  {
   "cell_type": "code",
   "execution_count": null,
   "metadata": {
    "collapsed": true
   },
   "outputs": [],
   "source": []
  }
 ],
 "metadata": {
  "kernelspec": {
   "display_name": "Python 3",
   "language": "python",
   "name": "python3"
  },
  "language_info": {
   "codemirror_mode": {
    "name": "ipython",
    "version": 3
   },
   "file_extension": ".py",
   "mimetype": "text/x-python",
   "name": "python",
   "nbconvert_exporter": "python",
   "pygments_lexer": "ipython3",
   "version": "3.5.1"
  }
 },
 "nbformat": 4,
 "nbformat_minor": 0
}

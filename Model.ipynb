{
 "cells": [
  {
   "cell_type": "code",
   "execution_count": 1,
   "metadata": {},
   "outputs": [],
   "source": [
    "import pandas as pd\n",
    "import numpy as np\n",
    "from sklearn import preprocessing"
   ]
  },
  {
   "cell_type": "code",
   "execution_count": 2,
   "metadata": {
    "scrolled": true
   },
   "outputs": [
    {
     "data": {
      "text/html": [
       "<div>\n",
       "<style>\n",
       "    .dataframe thead tr:only-child th {\n",
       "        text-align: right;\n",
       "    }\n",
       "\n",
       "    .dataframe thead th {\n",
       "        text-align: left;\n",
       "    }\n",
       "\n",
       "    .dataframe tbody tr th {\n",
       "        vertical-align: top;\n",
       "    }\n",
       "</style>\n",
       "<table border=\"1\" class=\"dataframe\">\n",
       "  <thead>\n",
       "    <tr style=\"text-align: right;\">\n",
       "      <th></th>\n",
       "      <th>imdbID</th>\n",
       "      <th>Country_Canada</th>\n",
       "      <th>Country_France</th>\n",
       "      <th>Country_Germany</th>\n",
       "      <th>Country_Other</th>\n",
       "      <th>Country_UK</th>\n",
       "      <th>Country_USA</th>\n",
       "      <th>DVD_Fall</th>\n",
       "      <th>DVD_Month</th>\n",
       "      <th>DVD_Spring</th>\n",
       "      <th>...</th>\n",
       "      <th>Release_Winter</th>\n",
       "      <th>Release_Year</th>\n",
       "      <th>Runtime</th>\n",
       "      <th>Runtime_Log</th>\n",
       "      <th>Torrentz_Count</th>\n",
       "      <th>Torrentz_Ver_Count</th>\n",
       "      <th>Total_Torrents</th>\n",
       "      <th>WorldGross</th>\n",
       "      <th>WorldGross_Log</th>\n",
       "      <th>Zoogle_Ver_Count</th>\n",
       "    </tr>\n",
       "  </thead>\n",
       "  <tbody>\n",
       "    <tr>\n",
       "      <th>0</th>\n",
       "      <td>tt0499549</td>\n",
       "      <td>0</td>\n",
       "      <td>0</td>\n",
       "      <td>0</td>\n",
       "      <td>0</td>\n",
       "      <td>1</td>\n",
       "      <td>1</td>\n",
       "      <td>0</td>\n",
       "      <td>4.0</td>\n",
       "      <td>0</td>\n",
       "      <td>...</td>\n",
       "      <td>0</td>\n",
       "      <td>2009</td>\n",
       "      <td>162.0</td>\n",
       "      <td>5.087596</td>\n",
       "      <td>961</td>\n",
       "      <td>21</td>\n",
       "      <td>2120.0</td>\n",
       "      <td>2783918982</td>\n",
       "      <td>21.747125</td>\n",
       "      <td>118.0</td>\n",
       "    </tr>\n",
       "    <tr>\n",
       "      <th>1</th>\n",
       "      <td>tt0376994</td>\n",
       "      <td>1</td>\n",
       "      <td>0</td>\n",
       "      <td>0</td>\n",
       "      <td>0</td>\n",
       "      <td>1</td>\n",
       "      <td>1</td>\n",
       "      <td>1</td>\n",
       "      <td>10.0</td>\n",
       "      <td>0</td>\n",
       "      <td>...</td>\n",
       "      <td>0</td>\n",
       "      <td>2006</td>\n",
       "      <td>104.0</td>\n",
       "      <td>4.644391</td>\n",
       "      <td>226</td>\n",
       "      <td>11</td>\n",
       "      <td>516.0</td>\n",
       "      <td>459260946</td>\n",
       "      <td>19.945129</td>\n",
       "      <td>53.0</td>\n",
       "    </tr>\n",
       "    <tr>\n",
       "      <th>2</th>\n",
       "      <td>tt1877832</td>\n",
       "      <td>1</td>\n",
       "      <td>0</td>\n",
       "      <td>0</td>\n",
       "      <td>0</td>\n",
       "      <td>1</td>\n",
       "      <td>1</td>\n",
       "      <td>1</td>\n",
       "      <td>10.0</td>\n",
       "      <td>0</td>\n",
       "      <td>...</td>\n",
       "      <td>0</td>\n",
       "      <td>2014</td>\n",
       "      <td>132.0</td>\n",
       "      <td>4.882802</td>\n",
       "      <td>905</td>\n",
       "      <td>95</td>\n",
       "      <td>2092.0</td>\n",
       "      <td>747862775</td>\n",
       "      <td>20.432730</td>\n",
       "      <td>113.0</td>\n",
       "    </tr>\n",
       "    <tr>\n",
       "      <th>3</th>\n",
       "      <td>tt3385516</td>\n",
       "      <td>0</td>\n",
       "      <td>0</td>\n",
       "      <td>0</td>\n",
       "      <td>0</td>\n",
       "      <td>0</td>\n",
       "      <td>1</td>\n",
       "      <td>1</td>\n",
       "      <td>10.0</td>\n",
       "      <td>0</td>\n",
       "      <td>...</td>\n",
       "      <td>0</td>\n",
       "      <td>2016</td>\n",
       "      <td>144.0</td>\n",
       "      <td>4.969813</td>\n",
       "      <td>302</td>\n",
       "      <td>0</td>\n",
       "      <td>674.0</td>\n",
       "      <td>542742489</td>\n",
       "      <td>20.112146</td>\n",
       "      <td>130.0</td>\n",
       "    </tr>\n",
       "    <tr>\n",
       "      <th>4</th>\n",
       "      <td>tt2103281</td>\n",
       "      <td>1</td>\n",
       "      <td>0</td>\n",
       "      <td>0</td>\n",
       "      <td>0</td>\n",
       "      <td>1</td>\n",
       "      <td>1</td>\n",
       "      <td>1</td>\n",
       "      <td>12.0</td>\n",
       "      <td>0</td>\n",
       "      <td>...</td>\n",
       "      <td>1</td>\n",
       "      <td>2014</td>\n",
       "      <td>130.0</td>\n",
       "      <td>4.867534</td>\n",
       "      <td>524</td>\n",
       "      <td>46</td>\n",
       "      <td>1479.0</td>\n",
       "      <td>710644566</td>\n",
       "      <td>20.381683</td>\n",
       "      <td>66.0</td>\n",
       "    </tr>\n",
       "  </tbody>\n",
       "</table>\n",
       "<p>5 rows × 63 columns</p>\n",
       "</div>"
      ],
      "text/plain": [
       "      imdbID  Country_Canada  Country_France  Country_Germany  Country_Other  \\\n",
       "0  tt0499549               0               0                0              0   \n",
       "1  tt0376994               1               0                0              0   \n",
       "2  tt1877832               1               0                0              0   \n",
       "3  tt3385516               0               0                0              0   \n",
       "4  tt2103281               1               0                0              0   \n",
       "\n",
       "   Country_UK  Country_USA  DVD_Fall  DVD_Month  DVD_Spring        ...         \\\n",
       "0           1            1         0        4.0           0        ...          \n",
       "1           1            1         1       10.0           0        ...          \n",
       "2           1            1         1       10.0           0        ...          \n",
       "3           0            1         1       10.0           0        ...          \n",
       "4           1            1         1       12.0           0        ...          \n",
       "\n",
       "   Release_Winter  Release_Year  Runtime  Runtime_Log  Torrentz_Count  \\\n",
       "0               0          2009    162.0     5.087596             961   \n",
       "1               0          2006    104.0     4.644391             226   \n",
       "2               0          2014    132.0     4.882802             905   \n",
       "3               0          2016    144.0     4.969813             302   \n",
       "4               1          2014    130.0     4.867534             524   \n",
       "\n",
       "   Torrentz_Ver_Count  Total_Torrents  WorldGross  WorldGross_Log  \\\n",
       "0                  21          2120.0  2783918982       21.747125   \n",
       "1                  11           516.0   459260946       19.945129   \n",
       "2                  95          2092.0   747862775       20.432730   \n",
       "3                   0           674.0   542742489       20.112146   \n",
       "4                  46          1479.0   710644566       20.381683   \n",
       "\n",
       "   Zoogle_Ver_Count  \n",
       "0             118.0  \n",
       "1              53.0  \n",
       "2             113.0  \n",
       "3             130.0  \n",
       "4              66.0  \n",
       "\n",
       "[5 rows x 63 columns]"
      ]
     },
     "execution_count": 2,
     "metadata": {},
     "output_type": "execute_result"
    }
   ],
   "source": [
    "df = pd.read_csv('EDA.csv', index_col=0)\n",
    "df.head()"
   ]
  },
  {
   "cell_type": "code",
   "execution_count": 3,
   "metadata": {},
   "outputs": [],
   "source": [
    "drop_cols = ['Extra_Count','Kat_Count','Pirate_Count','Torrentz_Count',\n",
    "            'Torrentz_Ver_Count','Zoogle_Ver_Count','Runtime',\n",
    "            'imdbID','DVD_Month', 'DomesticBudget','ProductionBudget','WorldGross']"
   ]
  },
  {
   "cell_type": "code",
   "execution_count": 4,
   "metadata": {},
   "outputs": [
    {
     "data": {
      "text/plain": [
       "['DomesticBudget',\n",
       " 'DomesticBudget_Log',\n",
       " 'ProductionBudget',\n",
       " 'ProductionBudget_Log',\n",
       " 'WorldGross',\n",
       " 'WorldGross_Log']"
      ]
     },
     "execution_count": 4,
     "metadata": {},
     "output_type": "execute_result"
    }
   ],
   "source": [
    "[x for x in df.columns if 'Budget' in x or 'Gross' in x]"
   ]
  },
  {
   "cell_type": "code",
   "execution_count": null,
   "metadata": {},
   "outputs": [],
   "source": []
  },
  {
   "cell_type": "code",
   "execution_count": 5,
   "metadata": {},
   "outputs": [],
   "source": [
    "from sklearn.model_selection import train_test_split\n",
    "\n",
    "y = df['Total_Torrents']\n",
    "df.drop('Total_Torrents', axis=1, inplace=True)\n",
    "X = df.drop(drop_cols, axis=1, inplace=False)\n",
    "\n",
    "# Scale\n",
    "min_max_scaler = preprocessing.MinMaxScaler()\n",
    "X_minmax = min_max_scaler.fit_transform(X)\n",
    "\n",
    "# Split\n",
    "X_train, X_test, y_train, y_test = train_test_split(X_minmax, y, test_size=0.33)"
   ]
  },
  {
   "cell_type": "code",
   "execution_count": 6,
   "metadata": {},
   "outputs": [
    {
     "data": {
      "text/plain": [
       "SelectFromModel(estimator=LinearRegression(copy_X=True, fit_intercept=True, n_jobs=1, normalize=False),\n",
       "        norm_order=1, prefit=False, threshold=None)"
      ]
     },
     "execution_count": 6,
     "metadata": {},
     "output_type": "execute_result"
    }
   ],
   "source": [
    "from sklearn.feature_selection import SelectFromModel\n",
    "from sklearn.linear_model import ElasticNet, LinearRegression\n",
    "\n",
    "mdl = SelectFromModel(LinearRegression())\n",
    "\n",
    "mdl.fit(X_train, y_train)"
   ]
  },
  {
   "cell_type": "code",
   "execution_count": 7,
   "metadata": {},
   "outputs": [],
   "source": [
    "feats = [X.columns[i] for i in mdl.get_support(indices=True)]"
   ]
  },
  {
   "cell_type": "code",
   "execution_count": 8,
   "metadata": {},
   "outputs": [
    {
     "data": {
      "text/plain": [
       "['Language_Other',\n",
       " 'Prod_Size_Large',\n",
       " 'Prod_Size_Medium',\n",
       " 'Prod_Size_Small',\n",
       " 'Prod_Size_Tiny',\n",
       " 'Prod_Size_Xtreme',\n",
       " 'Rated_G',\n",
       " 'Rated_NR',\n",
       " 'Rated_PG',\n",
       " 'Rated_PG13',\n",
       " 'Rated_R',\n",
       " 'Release_Fall',\n",
       " 'Release_Spring',\n",
       " 'Release_Summer',\n",
       " 'Release_Winter']"
      ]
     },
     "execution_count": 8,
     "metadata": {},
     "output_type": "execute_result"
    }
   ],
   "source": [
    "feats"
   ]
  },
  {
   "cell_type": "code",
   "execution_count": 9,
   "metadata": {},
   "outputs": [],
   "source": [
    "from sklearn.metrics import classification_report\n",
    "from sklearn.model_selection import GridSearchCV, RandomizedSearchCV"
   ]
  },
  {
   "cell_type": "code",
   "execution_count": 10,
   "metadata": {},
   "outputs": [
    {
     "data": {
      "text/plain": [
       "GridSearchCV(cv=5, error_score='raise',\n",
       "       estimator=LinearRegression(copy_X=True, fit_intercept=True, n_jobs=1, normalize=False),\n",
       "       fit_params=None, iid=True, n_jobs=4,\n",
       "       param_grid={'fit_intercept': [True, False]},\n",
       "       pre_dispatch='2*n_jobs', refit=True, return_train_score=True,\n",
       "       scoring='r2', verbose=0)"
      ]
     },
     "execution_count": 10,
     "metadata": {},
     "output_type": "execute_result"
    }
   ],
   "source": [
    "params = {'fit_intercept': [True, False]}\n",
    "\n",
    "clf = GridSearchCV(LinearRegression(), params, cv=5, scoring='r2', n_jobs=4)\n",
    "clf.fit(X_train, y_train)"
   ]
  },
  {
   "cell_type": "raw",
   "metadata": {},
   "source": [
    "params = {'alpha': [10, 1, 0.5, 0.1, 0.01], \n",
    "          'l1_ratio': [1, 0.5, 0.25, 0.1],\n",
    "          'max_iter': [10000,100000],\n",
    "          'tol': [0.001,0.0001,0.00001],\n",
    "          'fit_intercept': [True, False]}\n",
    "\n",
    "clf = RandomizedSearchCV(ElasticNet(), params, cv=5, scoring='r2', n_jobs=4)\n",
    "clf.fit(X_train, y_train)"
   ]
  },
  {
   "cell_type": "code",
   "execution_count": 11,
   "metadata": {},
   "outputs": [
    {
     "data": {
      "text/plain": [
       "LinearRegression(copy_X=True, fit_intercept=False, n_jobs=1, normalize=False)"
      ]
     },
     "execution_count": 11,
     "metadata": {},
     "output_type": "execute_result"
    }
   ],
   "source": [
    "clf.best_estimator_"
   ]
  },
  {
   "cell_type": "code",
   "execution_count": null,
   "metadata": {},
   "outputs": [],
   "source": []
  }
 ],
 "metadata": {
  "kernelspec": {
   "display_name": "Python [conda root]",
   "language": "python",
   "name": "conda-root-py"
  },
  "language_info": {
   "codemirror_mode": {
    "name": "ipython",
    "version": 3
   },
   "file_extension": ".py",
   "mimetype": "text/x-python",
   "name": "python",
   "nbconvert_exporter": "python",
   "pygments_lexer": "ipython3",
   "version": "3.6.2"
  }
 },
 "nbformat": 4,
 "nbformat_minor": 2
}

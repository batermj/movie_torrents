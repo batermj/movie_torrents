{
 "cells": [
  {
   "cell_type": "markdown",
   "metadata": {},
   "source": [
    "* Dates:\n",
    "    * Older moves might not be torrented\n",
    "    * Month: Blockbusters are released in May and December, No good movies released January - April, Kids are on summer vaction during summer months.\n",
    "* Production Budget: \n",
    "    * Might be outliers. Take log if outliers, Remove outliers, Create new feature that is binning production budget\n",
    "* Rating: Is there a relationship with Number of torrents, look at mean, median torrents per rating. Maybe group ratings together for example G, PG, PG-13 in one group R in another\n",
    "* Genre as a feature. Maybe keep a subset maybe create new ratings by combing other ratings"
   ]
  },
  {
   "cell_type": "code",
   "execution_count": 40,
   "metadata": {
    "collapsed": true
   },
   "outputs": [],
   "source": [
    "import pandas as pd\n",
    "import numpy as np\n",
    "\n",
    "import operator\n",
    "import string\n",
    "from collections import defaultdict\n",
    "\n",
    "%matplotlib inline\n",
    "import matplotlib.pyplot as plt\n",
    "import matplotlib\n",
    "import seaborn as sns\n",
    "\n",
    "import plotly\n",
    "import plotly.plotly as py\n",
    "import plotly.graph_objs as go\n",
    "from plotly.tools import FigureFactory as FF\n",
    "plotly.tools.set_credentials_file(username='bbiggs', api_key='jrgs2lfv3u')"
   ]
  },
  {
   "cell_type": "markdown",
   "metadata": {},
   "source": [
    "# Read in data and convert dates to datetime objects"
   ]
  },
  {
   "cell_type": "code",
   "execution_count": 41,
   "metadata": {
    "collapsed": false
   },
   "outputs": [],
   "source": [
    "# csv into pandas dataframe\n",
    "df = pd.read_csv('data/data.csv', encoding='latin-1')\n",
    "\n",
    "# update dates to datetime objects\n",
    "df['Released'] = pd.to_datetime(df['Released'])\n",
    "df['Year'] = pd.DatetimeIndex(df['Released']).year\n",
    "df['Year_Int'] = pd.to_numeric(df['Year'])\n",
    "df['Month'] = pd.DatetimeIndex(df['Released']).month"
   ]
  },
  {
   "cell_type": "code",
   "execution_count": 42,
   "metadata": {
    "collapsed": false
   },
   "outputs": [
    {
     "data": {
      "text/html": [
       "<iframe id=\"igraph\" scrolling=\"no\" style=\"border:none;\" seamless=\"seamless\" src=\"https://plot.ly/~bbiggs/201.embed\" height=\"525px\" width=\"100%\"></iframe>"
      ],
      "text/plain": [
       "<plotly.tools.PlotlyDisplay object>"
      ]
     },
     "execution_count": 42,
     "metadata": {},
     "output_type": "execute_result"
    }
   ],
   "source": [
    "# dictionary of year counts\n",
    "yr_dict = df['Year'].value_counts().to_dict()\n",
    "\n",
    "# sort dictionary by year\n",
    "yr_lst = sorted(yr_dict.items(), key=operator.itemgetter(0))\n",
    "yr_lst = yr_lst[::-1]\n",
    "\n",
    "years = [year for year, count in yr_lst]\n",
    "year_count = [count for year, count in yr_lst]\n",
    "\n",
    "trace = go.Bar(\n",
    "    x=years,\n",
    "    y=year_count,\n",
    "    marker=dict(\n",
    "        color='rgb(26, 118, 255)'\n",
    "    ))\n",
    "\n",
    "data = [trace]\n",
    "layout = go.Layout(\n",
    "    title='Movies Released per Year',\n",
    "    xaxis=dict(\n",
    "        title='Release Year',\n",
    "        tickfont=dict(\n",
    "            size=14,\n",
    "            color='rgb(107, 107, 107)'\n",
    "        )\n",
    "    ),\n",
    "    yaxis=dict(\n",
    "        title='Number of Movies',\n",
    "        titlefont=dict(\n",
    "            size=16,\n",
    "            color='rgb(107, 107, 107)'\n",
    "        ),\n",
    "        tickfont=dict(\n",
    "            size=14,\n",
    "            color='rgb(107, 107, 107)'\n",
    "        )\n",
    "    ),\n",
    "    barmode='group',\n",
    "    bargap=0.15,\n",
    "    bargroupgap=0.1\n",
    ")\n",
    "\n",
    "fig = go.Figure(data=data, layout=layout)\n",
    "py.iplot(fig, filename='style-bar')"
   ]
  },
  {
   "cell_type": "markdown",
   "metadata": {},
   "source": [
    "# Trim dataframe by years that are relevant"
   ]
  },
  {
   "cell_type": "code",
   "execution_count": 43,
   "metadata": {
    "collapsed": false
   },
   "outputs": [
    {
     "name": "stdout",
     "output_type": "stream",
     "text": [
      "267 entries lost (0.07%) due to date cutoff between 1995 and 2015\n"
     ]
    }
   ],
   "source": [
    "# trim dataframe to \"relevant\" years\n",
    "before = len(df)\n",
    "yr_cut_bot = 1995\n",
    "yr_cut_top = 2015\n",
    "mask = (df['Year'] >= yr_cut_bot) & (df['Year'] <= yr_cut_top)\n",
    "df = df.loc[mask]\n",
    "df.sort_values('Year').head()\n",
    "after = len(df)\n",
    "\n",
    "print('{0} entries lost ({1}%) due to date cutoff between {2} and {3}'.format(before-after, \n",
    "                                                round((before/after)/before *100, 2), yr_cut_bot, yr_cut_top))"
   ]
  },
  {
   "cell_type": "code",
   "execution_count": 44,
   "metadata": {
    "collapsed": false
   },
   "outputs": [
    {
     "data": {
      "text/html": [
       "<iframe id=\"igraph\" scrolling=\"no\" style=\"border:none;\" seamless=\"seamless\" src=\"https://plot.ly/~bbiggs/201.embed\" height=\"525px\" width=\"100%\"></iframe>"
      ],
      "text/plain": [
       "<plotly.tools.PlotlyDisplay object>"
      ]
     },
     "execution_count": 44,
     "metadata": {},
     "output_type": "execute_result"
    }
   ],
   "source": [
    "# dictionary of year counts\n",
    "yr_dict = df['Year'].value_counts().to_dict()\n",
    "\n",
    "# sort dictionary by year\n",
    "yr_lst = sorted(yr_dict.items(), key=operator.itemgetter(0))\n",
    "yr_lst = yr_lst[::-1]\n",
    "\n",
    "years = [year for year, count in yr_lst]\n",
    "year_count = [count for year, count in yr_lst]\n",
    "\n",
    "trace = go.Bar(\n",
    "    x=years,\n",
    "    y=year_count,\n",
    "    marker=dict(\n",
    "        color='rgb(26, 118, 255)'\n",
    "    ))\n",
    "\n",
    "data = [trace]\n",
    "layout = go.Layout(\n",
    "    title='Movies Released per Year ({0}-{1})'.format(yr_cut_bot, yr_cut_top),\n",
    "    xaxis=dict(\n",
    "        title='Release Year',\n",
    "        tickfont=dict(\n",
    "            size=14,\n",
    "            color='rgb(107, 107, 107)'\n",
    "        )\n",
    "    ),\n",
    "    yaxis=dict(\n",
    "        title='Number of Movies',\n",
    "        titlefont=dict(\n",
    "            size=16,\n",
    "            color='rgb(107, 107, 107)'\n",
    "        ),\n",
    "        tickfont=dict(\n",
    "            size=14,\n",
    "            color='rgb(107, 107, 107)'\n",
    "        )\n",
    "    ),\n",
    "    barmode='group',\n",
    "    bargap=0.15,\n",
    "    bargroupgap=0.1\n",
    ")\n",
    "\n",
    "fig = go.Figure(data=data, layout=layout)\n",
    "py.iplot(fig, filename='style-bar')"
   ]
  },
  {
   "cell_type": "code",
   "execution_count": 45,
   "metadata": {
    "collapsed": false
   },
   "outputs": [
    {
     "data": {
      "text/plain": [
       "\"\\n# 1998\\nmask =  (df_yr['Year'] == 1998) & (df_yr['Total_Torrents'] > 100)\\ndf_yr = df_yr[~mask]\\n\\n# 1999\\nmask =  (df_yr['Year'] == 1999) & (df_yr['Total_Torrents'] > 200)\\ndf_yr = df_yr[~mask]\\n\\n# 2000\\nmask =  (df_yr['Year'] == 2000) & (df_yr['Total_Torrents'] > 200)\\ndf_yr = df_yr[~mask]\\n\\n# 2001\\nmask =  (df_yr['Year'] == 2001) & (df_yr['Total_Torrents'] > 300)\\ndf_yr = df_yr[~mask]\\n\\n# 2002\\nmask =  (df_yr['Year'] == 2002) & (df_yr['Total_Torrents'] > 300)\\ndf_yr = df_yr[~mask]\\n\\n# 2003\\nmask =  (df_yr['Year'] == 2003) & (df_yr['Total_Torrents'] > 300)\\ndf_yr = df_yr[~mask]\\n\\n# 2004\\n# 2005\\nmask =  (df_yr['Year'] == 2005) & (df_yr['Total_Torrents'] > 300)\\ndf_yr = df_yr[~mask]\\n\\n# 2006\\nmask =  (df_yr['Year'] == 2006) & (df_yr['Total_Torrents'] > 300)\\ndf_yr = df_yr[~mask]\\n\\n# 2007\\nmask =  (df_yr['Year'] == 2007) & (df_yr['Total_Torrents'] > 450)\\ndf_yr = df_yr[~mask]\\n\\n# 2010\\nmask =  (df_yr['Year'] == 2010) & (df_yr['Total_Torrents'] > 800)\\ndf_yr = df_yr[~mask]\\n\\n# 2014\\nmask =  (df_yr['Year'] == 2014) & (df_yr['Total_Torrents'] > 850)\\ndf_yr = df_yr[~mask]\\n\""
      ]
     },
     "execution_count": 45,
     "metadata": {},
     "output_type": "execute_result"
    }
   ],
   "source": [
    "'''\n",
    "# 1998\n",
    "mask =  (df_yr['Year'] == 1998) & (df_yr['Total_Torrents'] > 100)\n",
    "df_yr = df_yr[~mask]\n",
    "\n",
    "# 1999\n",
    "mask =  (df_yr['Year'] == 1999) & (df_yr['Total_Torrents'] > 200)\n",
    "df_yr = df_yr[~mask]\n",
    "\n",
    "# 2000\n",
    "mask =  (df_yr['Year'] == 2000) & (df_yr['Total_Torrents'] > 200)\n",
    "df_yr = df_yr[~mask]\n",
    "\n",
    "# 2001\n",
    "mask =  (df_yr['Year'] == 2001) & (df_yr['Total_Torrents'] > 300)\n",
    "df_yr = df_yr[~mask]\n",
    "\n",
    "# 2002\n",
    "mask =  (df_yr['Year'] == 2002) & (df_yr['Total_Torrents'] > 300)\n",
    "df_yr = df_yr[~mask]\n",
    "\n",
    "# 2003\n",
    "mask =  (df_yr['Year'] == 2003) & (df_yr['Total_Torrents'] > 300)\n",
    "df_yr = df_yr[~mask]\n",
    "\n",
    "# 2004\n",
    "# 2005\n",
    "mask =  (df_yr['Year'] == 2005) & (df_yr['Total_Torrents'] > 300)\n",
    "df_yr = df_yr[~mask]\n",
    "\n",
    "# 2006\n",
    "mask =  (df_yr['Year'] == 2006) & (df_yr['Total_Torrents'] > 300)\n",
    "df_yr = df_yr[~mask]\n",
    "\n",
    "# 2007\n",
    "mask =  (df_yr['Year'] == 2007) & (df_yr['Total_Torrents'] > 450)\n",
    "df_yr = df_yr[~mask]\n",
    "\n",
    "# 2010\n",
    "mask =  (df_yr['Year'] == 2010) & (df_yr['Total_Torrents'] > 800)\n",
    "df_yr = df_yr[~mask]\n",
    "\n",
    "# 2014\n",
    "mask =  (df_yr['Year'] == 2014) & (df_yr['Total_Torrents'] > 850)\n",
    "df_yr = df_yr[~mask]\n",
    "'''"
   ]
  },
  {
   "cell_type": "code",
   "execution_count": 46,
   "metadata": {
    "collapsed": false
   },
   "outputs": [],
   "source": [
    "df_a = df[['Prod_Budget', 'Year', 'Month', 'Runtime', 'Total_Torrents']]"
   ]
  },
  {
   "cell_type": "code",
   "execution_count": 47,
   "metadata": {
    "collapsed": false
   },
   "outputs": [],
   "source": [
    "#fig = FF.create_scatterplotmatrix(df_a, diag='histogram', index='Prod_Budget', height=1000, width=1000)\n",
    "#py.iplot(fig, filename='Histograms along Diagonal Subplots')"
   ]
  },
  {
   "cell_type": "code",
   "execution_count": 48,
   "metadata": {
    "collapsed": false
   },
   "outputs": [],
   "source": [
    "# set of grouped genres as list of strings\n",
    "unq_genres = df['Genre'].unique()\n",
    "unq_genres = unq_genres.tolist()\n",
    "\n",
    "# set grouped genres as list of lists\n",
    "lst_grp_genres = []\n",
    "for lst in unq_genres:\n",
    "    temp = []\n",
    "    for genre in lst.split(','):\n",
    "         temp.append(genre)\n",
    "    lst_grp_genres.append(temp)\n",
    "    \n",
    "# set list of individual genres\n",
    "ind_genre = set()\n",
    "\n",
    "for lst in unq_genres:\n",
    "    for genre in lst.split(','):\n",
    "        ind_genre.add(genre.strip())\n",
    "ind_genre = sorted(ind_genre)"
   ]
  },
  {
   "cell_type": "code",
   "execution_count": 49,
   "metadata": {
    "collapsed": false
   },
   "outputs": [],
   "source": [
    "# dictionary of genre counts\n",
    "count = defaultdict(lambda:0)\n",
    "for genre in ind_genre:\n",
    "    count[genre] = df['Genre'].str.contains(genre).sum()\n",
    "\n",
    "# sort genre dictionary by year\n",
    "genres_srt_lst = sorted(count.items(), key=operator.itemgetter(1))\n",
    "genres_srt_lst = genres_srt_lst[::-1]\n",
    "\n",
    "# make genre lists\n",
    "genre = [genre for genre, count in genres_srt_lst]\n",
    "genre_count = [count for genre, count in genres_srt_lst]"
   ]
  },
  {
   "cell_type": "code",
   "execution_count": 50,
   "metadata": {
    "collapsed": false
   },
   "outputs": [
    {
     "data": {
      "text/html": [
       "<iframe id=\"igraph\" scrolling=\"no\" style=\"border:none;\" seamless=\"seamless\" src=\"https://plot.ly/~bbiggs/201.embed\" height=\"525px\" width=\"100%\"></iframe>"
      ],
      "text/plain": [
       "<plotly.tools.PlotlyDisplay object>"
      ]
     },
     "execution_count": 50,
     "metadata": {},
     "output_type": "execute_result"
    }
   ],
   "source": [
    "trace = go.Bar(\n",
    "    x=genre,\n",
    "    y=genre_count,\n",
    "    marker=dict(\n",
    "        color='rgb(26, 118, 255)'\n",
    "    ))\n",
    "\n",
    "data = [trace]\n",
    "layout = go.Layout(\n",
    "    title='Genre Occurences ({0}-{1})'.format(yr_cut_bot, yr_cut_top),\n",
    "    xaxis=dict(\n",
    "        title='Genre',\n",
    "        tickfont=dict(\n",
    "            size=14,\n",
    "            color='rgb(107, 107, 107)'\n",
    "        )\n",
    "    ),\n",
    "    yaxis=dict(\n",
    "        title='Occurences in Classification',\n",
    "        titlefont=dict(\n",
    "            size=16,\n",
    "            color='rgb(107, 107, 107)'\n",
    "        ),\n",
    "        tickfont=dict(\n",
    "            size=14,\n",
    "            color='rgb(107, 107, 107)'\n",
    "        )\n",
    "    ),\n",
    "    barmode='group',\n",
    "    bargap=0.15,\n",
    "    bargroupgap=0.1\n",
    ")\n",
    "\n",
    "fig = go.Figure(data=data, layout=layout)\n",
    "py.iplot(fig, filename='style-bar')"
   ]
  },
  {
   "cell_type": "code",
   "execution_count": 51,
   "metadata": {
    "collapsed": false
   },
   "outputs": [],
   "source": [
    "# split genre strings into a numpy array\n",
    "def split_to_array(ser):\n",
    "    split_array = np.array(ser.strip().replace(',','').split(' '))\n",
    "    return pd.Series(split_array)\n",
    "\n",
    "# turn numpy array into count of genre occurances\n",
    "genres = df['Genre'].apply(split_to_array)\n",
    "genres = pd.Series(genres.values.ravel()).dropna()\n",
    "genres = genres.value_counts().sort_values(ascending=False)\n",
    "\n",
    "# return genre that occurs the most (in total data set) in the list of genres (for that row)\n",
    "def convert_frequency(ser, genres=genres):\n",
    "    split_array = np.array(ser.strip().replace(',','').split(' '))\n",
    "    genre = genres.loc[split_array].argmax()\n",
    "    return genre\n",
    "\n",
    "df['Genre_Single'] = df['Genre'].apply(convert_frequency)"
   ]
  },
  {
   "cell_type": "code",
   "execution_count": 52,
   "metadata": {
    "collapsed": false
   },
   "outputs": [],
   "source": [
    "# dictionary of genre counts\n",
    "year_genre_dict = defaultdict(lambda:0)\n",
    "genre_ct_dict = defaultdict(lambda:0)\n",
    "\n",
    "# sorted list of years from dataframe\n",
    "years = sorted(df['Year'].unique().tolist())\n",
    "\n",
    "# build dictionary of genre occurences by genre for each year\n",
    "for year in years:\n",
    "    df_temp = df[df['Year'] == year]\n",
    "\n",
    "    for g in genre:\n",
    "        genre_ct_dict[g] = df_temp['Genre'].str.contains(g).sum()\n",
    "    \n",
    "    year_genre_dict[year] = genre_ct_dict"
   ]
  },
  {
   "cell_type": "code",
   "execution_count": 63,
   "metadata": {
    "collapsed": true
   },
   "outputs": [],
   "source": [
    "ordered_select_genre = ['Drama', 'Comedy', 'Action', 'Adventure', 'Thriller', 'Romance', \n",
    "                         'Horror', 'Mystery', 'Sci-Fi', 'Fantasy', 'Family']\n",
    "\n",
    "colors = ['rgb(246, 71, 71)', 'rgb(191, 85, 236)', 'rgb(191, 85, 236)', 'rgb(174, 168, 211)', 'rgb(25, 181, 254)',\n",
    "          'rgb(46, 204, 113)', 'rgb(248, 148, 6)', 'rgb(249, 191, 59)', 'rgb(189, 195, 199)', 'rgb(54, 215, 183)',\n",
    "          'rgb(31, 58, 147)']\n",
    "\n",
    "# trim dataframe to only genres of significance\n",
    "df = df.loc[df['Genre_Single'].isin(ordered_select_genre)]"
   ]
  },
  {
   "cell_type": "code",
   "execution_count": 54,
   "metadata": {
    "collapsed": false
   },
   "outputs": [],
   "source": [
    "genre_dict = defaultdict(lambda:0)\n",
    "year_ct_dict = defaultdict(lambda:0)\n",
    "\n",
    "# sorted list of years from dataframe\n",
    "years = sorted(df['Year_Int'].unique().tolist())\n",
    "\n",
    "# make dictionary of year, count by genre\n",
    "for gen in genre:\n",
    "    df_temp = df[df['Genre'].str.contains(gen)]\n",
    "\n",
    "    genre_dict[gen] = df_temp['Year'].value_counts().to_dict()"
   ]
  },
  {
   "cell_type": "code",
   "execution_count": 56,
   "metadata": {
    "collapsed": false
   },
   "outputs": [],
   "source": [
    "def make_bar_trace(x_years, y_counts, name_genre):\n",
    "    trace = go.Bar(\n",
    "        x = x_years, \n",
    "        y = y_counts, \n",
    "        name = name_genre)\n",
    "    return trace"
   ]
  },
  {
   "cell_type": "code",
   "execution_count": 57,
   "metadata": {
    "collapsed": false
   },
   "outputs": [
    {
     "data": {
      "text/html": [
       "<iframe id=\"igraph\" scrolling=\"no\" style=\"border:none;\" seamless=\"seamless\" src=\"https://plot.ly/~bbiggs/203.embed\" height=\"525px\" width=\"100%\"></iframe>"
      ],
      "text/plain": [
       "<plotly.tools.PlotlyDisplay object>"
      ]
     },
     "execution_count": 57,
     "metadata": {},
     "output_type": "execute_result"
    }
   ],
   "source": [
    "traces = []\n",
    "\n",
    "for genre in ordered_genre[::-1]:\n",
    "    year_lst = []\n",
    "    count_lst = []\n",
    "    \n",
    "    year_lst = [x for x in genre_dict[genre].keys()]\n",
    "    count_lst = [x for x in genre_dict[genre].values()]\n",
    "    \n",
    "    traces.append(make_bar_trace(year_lst, count_lst, genre))\n",
    "\n",
    "data = traces\n",
    "\n",
    "layout = go.Layout(\n",
    "    title='Movie Titles ({0}-{1})'.format(yr_cut_bot, yr_cut_top),\n",
    "    xaxis=dict(\n",
    "        title='Year',\n",
    "        tickfont=dict(\n",
    "            size=14,\n",
    "            color='rgb(107, 107, 107)'\n",
    "        )\n",
    "    ),\n",
    "    yaxis=dict(\n",
    "        title='Number of Titles',\n",
    "        titlefont=dict(\n",
    "            size=16,\n",
    "            color='rgb(107, 107, 107)'\n",
    "        ),\n",
    "        tickfont=dict(\n",
    "            size=14,\n",
    "            color='rgb(107, 107, 107)'\n",
    "        )\n",
    "    ),\n",
    "    barmode='stack',\n",
    ")\n",
    "\n",
    "fig = go.Figure(data=data, layout=layout)\n",
    "py.iplot(fig, filename='stacked-bar')"
   ]
  },
  {
   "cell_type": "code",
   "execution_count": 68,
   "metadata": {
    "collapsed": false
   },
   "outputs": [],
   "source": [
    "def make_filled_line_trace(x_years, y_counts, name_genre, color):\n",
    "    trace = go.Scatter(\n",
    "        x = x_years, \n",
    "        y = y_counts, \n",
    "        name = name_genre,\n",
    "        mode = 'lines',\n",
    "        line = dict(width=0.5,\n",
    "                   color = color),\n",
    "        fill = 'tonexty')\n",
    "    return trace"
   ]
  },
  {
   "cell_type": "markdown",
   "metadata": {},
   "source": [
    "# need to get total torrent counts for that year to divide by for percentage"
   ]
  },
  {
   "cell_type": "code",
   "execution_count": 86,
   "metadata": {
    "collapsed": false
   },
   "outputs": [
    {
     "name": "stdout",
     "output_type": "stream",
     "text": [
      "100.0\n",
      "100.0\n",
      "100.0\n",
      "100.0\n",
      "100.0\n",
      "100.0\n",
      "100.0\n",
      "100.0\n",
      "100.0\n",
      "100.0\n",
      "100.0\n"
     ]
    }
   ],
   "source": [
    "traces = []\n",
    "\n",
    "for i, genre in enumerate(ordered_genre[::-1]):\n",
    "    year_lst = []\n",
    "    count_lst = []\n",
    "    \n",
    "    year_lst = [x for x in genre_dict[genre].keys()]\n",
    "    count_lst = [100*x/sum(genre_dict[genre].values()) for x in genre_dict[genre].values()]\n",
    "    print(sum(count_lst))\n",
    "    traces.append(make_filled_line_trace(year_lst, count_lst, genre, colors[i]))\n",
    "\n",
    "data = traces"
   ]
  },
  {
   "cell_type": "code",
   "execution_count": 85,
   "metadata": {
    "collapsed": false
   },
   "outputs": [
    {
     "data": {
      "text/html": [
       "<iframe id=\"igraph\" scrolling=\"no\" style=\"border:none;\" seamless=\"seamless\" src=\"https://plot.ly/~bbiggs/205.embed\" height=\"525px\" width=\"100%\"></iframe>"
      ],
      "text/plain": [
       "<plotly.tools.PlotlyDisplay object>"
      ]
     },
     "execution_count": 85,
     "metadata": {},
     "output_type": "execute_result"
    }
   ],
   "source": [
    "import plotly.plotly as py\n",
    "import plotly.graph_objs as go\n",
    "\n",
    "data = traces\n",
    "layout = go.Layout(\n",
    "    showlegend=True,\n",
    "    xaxis=dict(\n",
    "        type='category',\n",
    "    ),\n",
    "    yaxis=dict(\n",
    "        type='linear',\n",
    "        range=[1, 100],\n",
    "        dtick=20,\n",
    "        ticksuffix='%'\n",
    "    )\n",
    ")\n",
    "fig = go.Figure(data=data, layout=layout)\n",
    "py.iplot(fig, filename='stacked-area-plot')\n"
   ]
  },
  {
   "cell_type": "markdown",
   "metadata": {},
   "source": [
    "# Select only significant values from dataframe"
   ]
  },
  {
   "cell_type": "code",
   "execution_count": 17,
   "metadata": {
    "collapsed": false
   },
   "outputs": [
    {
     "ename": "NameError",
     "evalue": "name 'df_yr' is not defined",
     "output_type": "error",
     "traceback": [
      "\u001b[0;31m---------------------------------------------------------------------------\u001b[0m",
      "\u001b[0;31mNameError\u001b[0m                                 Traceback (most recent call last)",
      "\u001b[0;32m<ipython-input-17-6393edc461d4>\u001b[0m in \u001b[0;36m<module>\u001b[0;34m()\u001b[0m\n\u001b[1;32m      2\u001b[0m genre = ['Drama', 'Comedy', 'Action', 'Adventure', 'Thriller', 'Romance', \n\u001b[1;32m      3\u001b[0m          'Horror', 'Mystery', 'Sci-Fi', 'Fantasy', 'Family']\n\u001b[0;32m----> 4\u001b[0;31m \u001b[0mdf_sub\u001b[0m \u001b[0;34m=\u001b[0m \u001b[0mdf_yr\u001b[0m\u001b[0;34m.\u001b[0m\u001b[0mloc\u001b[0m\u001b[0;34m[\u001b[0m\u001b[0mdf_yr\u001b[0m\u001b[0;34m[\u001b[0m\u001b[0;34m'Genre_Single'\u001b[0m\u001b[0;34m]\u001b[0m\u001b[0;34m.\u001b[0m\u001b[0misin\u001b[0m\u001b[0;34m(\u001b[0m\u001b[0mgenre\u001b[0m\u001b[0;34m)\u001b[0m\u001b[0;34m]\u001b[0m\u001b[0;34m\u001b[0m\u001b[0m\n\u001b[0m\u001b[1;32m      5\u001b[0m \u001b[0;34m\u001b[0m\u001b[0m\n\u001b[1;32m      6\u001b[0m \u001b[0;31m# select only genres of significance\u001b[0m\u001b[0;34m\u001b[0m\u001b[0;34m\u001b[0m\u001b[0m\n",
      "\u001b[0;31mNameError\u001b[0m: name 'df_yr' is not defined"
     ]
    }
   ],
   "source": [
    "# trim dataframe to only genres of significance\n",
    "df = df.loc[df['Genre_Single'].isin(ordered_select_genre)]\n",
    "\n",
    "# select only genres of significance\n",
    "ratings = ['PG-13', 'PG', 'G', 'R']\n",
    "df_sub = df_sub.loc[df_sub['Rated'].isin(ratings)]\n",
    "\n",
    "#df_sub['Runtime'].value_counts()\n",
    "#df_sub['Genre_Single'].value_counts()\n",
    "#df_sub['Rated'].value_counts()\n",
    "df_sub.describe()"
   ]
  },
  {
   "cell_type": "code",
   "execution_count": null,
   "metadata": {
    "collapsed": false
   },
   "outputs": [],
   "source": [
    "# entire dataframe\n",
    "plt.rcParams['figure.figsize'] = (15, 15)\n",
    "_ = pd.tools.plotting.scatter_matrix(df_sub)"
   ]
  },
  {
   "cell_type": "code",
   "execution_count": null,
   "metadata": {
    "collapsed": false
   },
   "outputs": [],
   "source": [
    "import plotly.plotly as py\n",
    "from plotly.tools import FigureFactory as FF\n",
    "\n",
    "df_a = df_yr[['Prod_Budget', 'Year', 'Month', 'Total_Torrents']]\n",
    "fig = FF.create_scatterplotmatrix(df_a, diag='histogram', index='Month',\n",
    "                                  height=800, width=800)\n",
    "py.iplot(fig, filename='Histograms along Diagonal Subplots')"
   ]
  },
  {
   "cell_type": "code",
   "execution_count": null,
   "metadata": {
    "collapsed": false
   },
   "outputs": [],
   "source": [
    "from patsy import dmatrices\n",
    "patsy_formula = 'Total_Torrents ~ Prod_Budget + Year + Month + Runtime + Genre_Single'\n",
    "y, x = dmatrices(patsy_formula, data=df_sub, return_type='dataframe')"
   ]
  },
  {
   "cell_type": "code",
   "execution_count": null,
   "metadata": {
    "collapsed": false
   },
   "outputs": [],
   "source": [
    "import statsmodels.api as sm\n",
    "model = sm.OLS(y, x)\n",
    "results = model.fit()\n",
    "results.summary()"
   ]
  },
  {
   "cell_type": "code",
   "execution_count": null,
   "metadata": {
    "collapsed": false
   },
   "outputs": [],
   "source": [
    "from sklearn.linear_model import LinearRegression\n",
    "model = LinearRegression()\n",
    "model.fit(x, y)\n",
    "mod_lr_score = model.score(x, y)\n",
    "mod_lr_coef = model.coef_\n",
    "model.results"
   ]
  },
  {
   "cell_type": "code",
   "execution_count": null,
   "metadata": {
    "collapsed": true
   },
   "outputs": [],
   "source": [
    "from sklearn import cross_validation as cv\n",
    "from sklearn import metrics\n",
    "\n",
    "x_train, x_test, y_train, y_test = cv.train_test_split(x,y,test_size=0.20,random_state=1234)\n",
    "\n",
    "model = LinearRegression().fit(x_train, y_train)\n",
    "\n",
    "# store results\n",
    "mean_sq_err = metrics.mean_squared_error(y_train,model.predict(x_train))\n",
    "cv_mod_score = model.score(x_train, y_train)"
   ]
  },
  {
   "cell_type": "code",
   "execution_count": null,
   "metadata": {
    "collapsed": true
   },
   "outputs": [],
   "source": [
    "# reset x, y otherwise errors occur\n",
    "y, x = dmatrices(patsy_formula, data=df_sub, return_type='dataframe')\n",
    "\n",
    "from sklearn.cross_validation import KFold\n",
    "kf = KFold(len(df_sub), n_folds=10, shuffle=True)\n",
    "\n",
    "for train_index, test_index in kf:\n",
    "    x_train, x_test = x.iloc[train_index], x.iloc[test_index]\n",
    "    y_train, y_test = y.iloc[train_index], y.iloc[test_index]\n",
    "    clf2 = LinearRegression().fit(x.iloc[train_index], y.iloc[train_index])\n",
    "\n",
    "# store results\n",
    "mean_sq_errKf = metrics.mean_squared_error(y_train,model.predict(x_train))\n",
    "cvKf_mod_score = clf2.score(x,y)"
   ]
  },
  {
   "cell_type": "code",
   "execution_count": null,
   "metadata": {
    "collapsed": false
   },
   "outputs": [],
   "source": [
    "#NORMAL RESULTS\n",
    "print('Model Linear Regression Score = {0}'.format(mod_lr_score))\n",
    "print('            Mean Square Error = {0}'.format(mean_sq_err))\n",
    "print(' Cross Validation Model Score = {0}'.format(cv_mod_score))\n",
    "print('     Mean Squred Error K-Fold = {0}'.format(mean_sq_errKf))\n",
    "print('Cross Val. K-Fold Model Score = {0}'.format(cvKf_mod_score))"
   ]
  },
  {
   "cell_type": "code",
   "execution_count": null,
   "metadata": {
    "collapsed": false
   },
   "outputs": [],
   "source": [
    "fig = plt.figure(figsize=(12,8))\n",
    "fig = sm.graphics.plot_regress_exog(results,'Prod_Budget', fig=fig)"
   ]
  },
  {
   "cell_type": "markdown",
   "metadata": {},
   "source": [
    "---\n",
    "# Log Transform"
   ]
  },
  {
   "cell_type": "code",
   "execution_count": null,
   "metadata": {
    "collapsed": false
   },
   "outputs": [],
   "source": [
    "df.columns"
   ]
  },
  {
   "cell_type": "code",
   "execution_count": null,
   "metadata": {
    "collapsed": false
   },
   "outputs": [],
   "source": [
    "df_sub['log_budg']=np.log(df_sub.Prod_Budget)\n",
    "#df_sub['log_year']=np.log(df_sub.Year)\n",
    "#df_sub['log_run']=np.log(df_sub.Runtime)\n",
    "df_sub['log_tor']=np.log(df_sub.Total_Torrents)\n",
    "\n",
    "trans = df_sub[['log_budg', 'Year', 'log_tor']]\n",
    "plt.rcParams['figure.figsize'] = (15, 15)\n",
    "pd.tools.plotting.scatter_matrix(trans)"
   ]
  },
  {
   "cell_type": "code",
   "execution_count": null,
   "metadata": {
    "collapsed": false
   },
   "outputs": [],
   "source": [
    "log_patsy_formula = 'log_tor ~ log_budg + Year + Month'\n",
    "y, x = dmatrices(log_patsy_formula, data=df_sub, return_type='dataframe')"
   ]
  },
  {
   "cell_type": "code",
   "execution_count": null,
   "metadata": {
    "collapsed": false
   },
   "outputs": [],
   "source": [
    "import plotly.plotly as py\n",
    "from plotly.tools import FigureFactory as FF\n",
    "\n",
    "df_a = df_sub[['log_budg', 'Year', 'Month', 'log_tor']]\n",
    "fig = FF.create_scatterplotmatrix(df_a, diag='histogram', index='Month',\n",
    "                                  height=800, width=800)\n",
    "py.iplot(fig, filename='Histograms along Diagonal Subplots')"
   ]
  },
  {
   "cell_type": "code",
   "execution_count": null,
   "metadata": {
    "collapsed": false
   },
   "outputs": [],
   "source": [
    "import statsmodels.formula.api as smf\n",
    "results = smf.ols(formula=log_patsy_formula, data=df_sub,).fit()\n",
    "results.summary()"
   ]
  },
  {
   "cell_type": "code",
   "execution_count": null,
   "metadata": {
    "collapsed": false
   },
   "outputs": [],
   "source": [
    "from sklearn.linear_model import LinearRegression\n",
    "model = LinearRegression()\n",
    "model.fit(x, y)\n",
    "\n",
    "# store results\n",
    "log_mod_lr_score = model.score(x,y)"
   ]
  },
  {
   "cell_type": "code",
   "execution_count": null,
   "metadata": {
    "collapsed": false
   },
   "outputs": [],
   "source": [
    "from sklearn import cross_validation as cv\n",
    "from sklearn import metrics\n",
    "\n",
    "x_train, x_test, y_train, y_test = cv.train_test_split(x,y,test_size=0.20,random_state=1234)\n",
    "\n",
    "model = LinearRegression().fit(x_train, y_train)\n",
    "\n",
    "# store results\n",
    "log_mean_sq_err = metrics.mean_squared_error(y_train,model.predict(x_train))\n",
    "log_cv_mod_score = model.score(x_train, y_train)"
   ]
  },
  {
   "cell_type": "code",
   "execution_count": null,
   "metadata": {
    "collapsed": false
   },
   "outputs": [],
   "source": [
    "# reset x, y otherwise errors occur\n",
    "y, x = dmatrices(log_patsy_formula, data=df_sub, return_type='dataframe')\n",
    "\n",
    "from sklearn.cross_validation import KFold\n",
    "kf = KFold(len(df_sub), n_folds=10, shuffle=True)\n",
    "\n",
    "for train_index, test_index in kf:\n",
    "    x_train, x_test = x.iloc[train_index], x.iloc[test_index]\n",
    "    y_train, y_test = y.iloc[train_index], y.iloc[test_index]\n",
    "    clf2 = LinearRegression().fit(x.iloc[train_index], y.iloc[train_index])\n",
    "\n",
    "# store results\n",
    "log_mean_sq_errKf = metrics.mean_squared_error(y_train,model.predict(x_train))\n",
    "log_cvKf_mod_score = clf2.score(x,y)"
   ]
  },
  {
   "cell_type": "code",
   "execution_count": null,
   "metadata": {
    "collapsed": false
   },
   "outputs": [],
   "source": [
    "#LOG RESULTS\n",
    "print('Log Model Linear Regression Score = {0}'.format(log_mod_lr_score))\n",
    "print('            Log Mean Square Error = {0}'.format(log_mean_sq_err))\n",
    "print(' Log Cross Validation Model Score = {0}'.format(log_cv_mod_score))\n",
    "print('     Log Mean Squred Error K-Fold = {0}'.format(log_mean_sq_errKf))\n",
    "print('Log Cross Val. K-Fold Model Score = {0}'.format(log_cvKf_mod_score))"
   ]
  },
  {
   "cell_type": "code",
   "execution_count": null,
   "metadata": {
    "collapsed": false
   },
   "outputs": [],
   "source": [
    "df_TEST = pd.read_csv('data/test_data2.csv', encoding='latin-1')\n",
    "\n",
    "df_TEST['log_budg']=np.log(df_TEST.Prod_Budget)\n",
    "df_TEST['log_run']=np.log(df_TEST.Runtime)\n",
    "df_TEST['log_tor']=np.log(df_TEST.Total_Torrents)\n",
    "\n",
    "def split_to_array(ser):\n",
    "    split_array = np.array(ser.strip().replace(',','').split(' '))\n",
    "    return pd.Series(split_array)\n",
    "\n",
    "genres = df_yr.Genre.apply(split_to_array)\n",
    "genres = pd.Series(genres.values.ravel()).dropna()\n",
    "genres = genres.value_counts().sort_values(ascending=False)\n",
    "\n",
    "def convert_frequency(ser, genres=genres):\n",
    "    split_array = np.array(ser.strip().replace(',','').split(' '))\n",
    "    genre = genres.loc[split_array].argmax()\n",
    "    return genre\n",
    "\n",
    "df_TEST['Genre_Single'] = df_TEST.Genre.apply(convert_frequency)\n",
    "\n",
    "log_patsy_formula_test = 'log_tor ~ log_budg + Year + Month + log_run + Genre_Single'\n",
    "y, x = dmatrices(log_patsy_formula_test, data=df_TEST, return_type='dataframe')\n",
    "\n",
    "print(clf2.score(x_test, y_test))\n",
    "print(metrics.mean_squared_error(y_test,model.predict(x_test)))"
   ]
  },
  {
   "cell_type": "code",
   "execution_count": null,
   "metadata": {
    "collapsed": false
   },
   "outputs": [],
   "source": [
    "_ = plt.plot(y, model.predict(x), 'bo')"
   ]
  },
  {
   "cell_type": "code",
   "execution_count": null,
   "metadata": {
    "collapsed": false
   },
   "outputs": [],
   "source": [
    "plt.figure(figsize=(25,10))\n",
    "\n",
    "ind = np.arange(len(yr_dict))\n",
    "width = 0.35\n",
    "\n",
    "bar_year = [year for year, count in yr_lst]\n",
    "bar_count = [count for year, count in yr_lst]\n",
    "\n",
    "plt.bar(ind, bar_count, width, color='r')\n",
    "\n",
    "plt.ylabel('Count')\n",
    "plt.xlabel('Year')\n",
    "plt.title('Number of Torrents per Year')\n",
    "plt.xticks(ind + width/2., (bar_year), rotation='vertical')\n",
    "plt.yticks(np.arange(0, 91, 5))\n",
    "\n",
    "plt.show()"
   ]
  },
  {
   "cell_type": "code",
   "execution_count": null,
   "metadata": {
    "collapsed": true
   },
   "outputs": [],
   "source": [
    "#log_tor ~ log_budg + Year + Month + log_run + Genre_Single'"
   ]
  },
  {
   "cell_type": "code",
   "execution_count": null,
   "metadata": {
    "collapsed": false
   },
   "outputs": [],
   "source": [
    "fig = plt.figure(figsize=(12,8))\n",
    "fig = sm.graphics.plot_regress_exog(results,'log_budg', fig=fig)"
   ]
  },
  {
   "cell_type": "code",
   "execution_count": null,
   "metadata": {
    "collapsed": false
   },
   "outputs": [],
   "source": [
    "fig = plt.figure(figsize=(12,8))\n",
    "fig = sm.graphics.plot_regress_exog(results,'Year', fig=fig)"
   ]
  },
  {
   "cell_type": "code",
   "execution_count": null,
   "metadata": {
    "collapsed": false
   },
   "outputs": [],
   "source": [
    "fig = plt.figure(figsize=(12,8))\n",
    "fig = sm.graphics.plot_regress_exog(results,'Month', fig=fig)"
   ]
  },
  {
   "cell_type": "code",
   "execution_count": null,
   "metadata": {
    "collapsed": false
   },
   "outputs": [],
   "source": []
  },
  {
   "cell_type": "code",
   "execution_count": null,
   "metadata": {
    "collapsed": true
   },
   "outputs": [],
   "source": []
  }
 ],
 "metadata": {
  "kernelspec": {
   "display_name": "Python 3",
   "language": "python",
   "name": "python3"
  },
  "language_info": {
   "codemirror_mode": {
    "name": "ipython",
    "version": 3
   },
   "file_extension": ".py",
   "mimetype": "text/x-python",
   "name": "python",
   "nbconvert_exporter": "python",
   "pygments_lexer": "ipython3",
   "version": "3.5.1"
  }
 },
 "nbformat": 4,
 "nbformat_minor": 0
}
